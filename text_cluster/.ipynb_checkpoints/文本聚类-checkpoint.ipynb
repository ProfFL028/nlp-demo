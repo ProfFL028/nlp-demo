{
 "cells": [
  {
   "cell_type": "code",
   "execution_count": 53,
   "metadata": {
    "collapsed": true
   },
   "outputs": [],
   "source": [
    "#encoding:utf8\n",
    "import jieba\n",
    "import re\n",
    "import pickle\n",
    "import random\n",
    "from __future__ import print_function\n",
    "from sklearn.cluster import KMeans\n",
    "from sklearn.feature_extraction.text import TfidfVectorizer\n",
    "from sklearn.feature_extraction.text import HashingVectorizer\n",
    "import matplotlib.pyplot as plt\n",
    "\n",
    "\n",
    "def load_data():\n",
    "    doc_set = pickle.load(open('train_data2.pkl','rb'))\n",
    "    #doc_set.sample(n = 20000),dataframe随机取训练集\n",
    "    return random.sample(doc_set, 20000)\n",
    "                    "
   ]
  },
  {
   "cell_type": "code",
   "execution_count": 54,
   "metadata": {
    "collapsed": true
   },
   "outputs": [],
   "source": [
    "#默认特征数量为30000，因为在数据预处理阶段我们发现词频数大于5个的只有30000个词左右。\n",
    "def transform(dataset,n_features=30000):\n",
    "    vectorizer = TfidfVectorizer(max_df=0.3, max_features=n_features, min_df= 6,use_idf=True)\n",
    "    X = vectorizer.fit_transform(dataset)\n",
    "    return X,vectorizer\n",
    "\n",
    "def plot_cluster_disc(result):\n",
    "    cluster_id ,cent = [],[]\n",
    "    for i in range(len(result)):\n",
    "        cluster_id.append(result[i][0])\n",
    "        cent.append(result[i][1])\n",
    "    plt.figure(figsize=(12,6))\n",
    "    plt.plot(cluster_id,cent,label=\"cluster numbers\",color=\"red\",linewidth=1)\n",
    "    plt.xlabel(\"cluster id\")\n",
    "    plt.ylabel(\"numbers\")\n",
    "    plt.legend()\n",
    "    plt.show()\n",
    "    \n",
    "def train(X,vectorizer,true_k=80,minibatch = False,showLable = False,plot=False):\n",
    "    #使用采样数据还是原始数据训练k-means，    \n",
    "    if minibatch:\n",
    "        km = MiniBatchKMeans(n_clusters=true_k, init='k-means++', n_init=1,\n",
    "                             init_size=1000, batch_size=1000, verbose=False)\n",
    "    else:\n",
    "        km = KMeans(n_clusters=true_k, init='k-means++', max_iter=300, n_init=1,\n",
    "                    verbose=False)\n",
    "    km.fit(X)    \n",
    "    if showLable:\n",
    "        print(\"Top terms per cluster:\")\n",
    "        order_centroids = km.cluster_centers_.argsort()[:, ::-1]\n",
    "        terms = vectorizer.get_feature_names()\n",
    "        print (vectorizer.get_stop_words())\n",
    "        for i in range(true_k):\n",
    "            print(\"Cluster %d:\" % i, end='')\n",
    "            for ind in order_centroids[i, :15]:\n",
    "                print(' %s' % terms[ind], end='')\n",
    "            print()\n",
    "    result = list(km.predict(X))\n",
    "    print ('Cluster distribution:')\n",
    "    result_dict = dict([(i, result.count(i)) for i in result])\n",
    "    result_dict = sorted(result_dict.items(),key=lambda d: d[0], reverse=False)\n",
    "    print (result_dict)\n",
    "    if plot:\n",
    "        plot_cluster_disc(result_dict)\n",
    "    return -km.score(X)\n",
    "    "
   ]
  },
  {
   "cell_type": "code",
   "execution_count": 57,
   "metadata": {
    "collapsed": true
   },
   "outputs": [],
   "source": [
    "def test_k():\n",
    "    '''测试选择最优聚类数量'''\n",
    "    dataset = load_data()    \n",
    "    print(\"%d documents\" % len(dataset))\n",
    "    X,vectorizer = transform(dataset,n_features=10000)\n",
    "    true_ks = []\n",
    "    scores = []\n",
    "    for i in range(50,101,8):        \n",
    "        score = train(X,vectorizer,true_k=i)/len(dataset)\n",
    "        print (i,score)\n",
    "        true_ks.append(i)\n",
    "        scores.append(score)\n",
    "    plt.figure(figsize=(8,4))\n",
    "    plt.plot(true_ks,scores,label=\"error\",color=\"red\",linewidth=1)\n",
    "    plt.xlabel(\"n_features\")\n",
    "    plt.ylabel(\"error\")\n",
    "    plt.legend()\n",
    "    plt.show()\n",
    "    "
   ]
  },
  {
   "cell_type": "code",
   "execution_count": 58,
   "metadata": {
    "scrolled": false
   },
   "outputs": [
    {
     "name": "stdout",
     "output_type": "stream",
     "text": [
      "20000 documents\n",
      "Cluster distribution:\n",
      "[(0, 412), (1, 243), (2, 141), (3, 182), (4, 367), (5, 233), (6, 217), (7, 271), (8, 542), (9, 155), (10, 249), (11, 219), (12, 573), (13, 190), (14, 224), (15, 184), (16, 224), (17, 239), (18, 353), (19, 150), (20, 278), (21, 415), (22, 460), (23, 786), (24, 92), (25, 97), (26, 5829), (27, 169), (28, 95), (29, 348), (30, 601), (31, 475), (32, 211), (33, 241), (34, 571), (35, 331), (36, 185), (37, 149), (38, 426), (39, 127), (40, 480), (41, 270), (42, 352), (43, 143), (44, 202), (45, 227), (46, 232), (47, 414), (48, 289), (49, 137)]\n",
      "50 0.8974780763933715\n",
      "Cluster distribution:\n",
      "[(0, 189), (1, 97), (2, 5178), (3, 156), (4, 239), (5, 265), (6, 159), (7, 133), (8, 128), (9, 196), (10, 162), (11, 334), (12, 221), (13, 294), (14, 188), (15, 195), (16, 232), (17, 455), (18, 680), (19, 188), (20, 206), (21, 147), (22, 459), (23, 300), (24, 234), (25, 124), (26, 153), (27, 563), (28, 311), (29, 442), (30, 190), (31, 168), (32, 391), (33, 382), (34, 161), (35, 127), (36, 502), (37, 63), (38, 313), (39, 233), (40, 436), (41, 378), (42, 316), (43, 409), (44, 464), (45, 172), (46, 321), (47, 158), (48, 199), (49, 386), (50, 190), (51, 137), (52, 184), (53, 162), (54, 229), (55, 154), (56, 264), (57, 283)]\n",
      "58 0.8921971377534698\n",
      "Cluster distribution:\n",
      "[(0, 354), (1, 172), (2, 94), (3, 186), (4, 233), (5, 164), (6, 280), (7, 78), (8, 5200), (9, 494), (10, 334), (11, 169), (12, 273), (13, 156), (14, 137), (15, 455), (16, 211), (17, 189), (18, 285), (19, 187), (20, 137), (21, 6), (22, 332), (23, 173), (24, 442), (25, 310), (26, 506), (27, 191), (28, 92), (29, 225), (30, 101), (31, 186), (32, 232), (33, 569), (34, 185), (35, 732), (36, 338), (37, 271), (38, 197), (39, 170), (40, 189), (41, 98), (42, 214), (43, 128), (44, 97), (45, 167), (46, 314), (47, 139), (48, 325), (49, 191), (50, 134), (51, 135), (52, 441), (53, 387), (54, 170), (55, 225), (56, 70), (57, 255), (58, 133), (59, 132), (60, 151), (61, 76), (62, 220), (63, 79), (64, 382), (65, 102)]\n",
      "66 0.8856295352642936\n",
      "Cluster distribution:\n",
      "[(0, 139), (1, 86), (2, 251), (3, 213), (4, 312), (5, 462), (6, 46), (7, 4903), (8, 69), (9, 98), (10, 75), (11, 193), (12, 124), (13, 162), (14, 189), (15, 370), (16, 448), (17, 411), (18, 141), (19, 182), (20, 612), (21, 66), (22, 181), (23, 181), (24, 181), (25, 139), (26, 279), (27, 44), (28, 345), (29, 181), (30, 129), (31, 225), (32, 107), (33, 515), (34, 111), (35, 139), (36, 128), (37, 156), (38, 244), (39, 221), (40, 487), (41, 170), (42, 186), (43, 350), (44, 210), (45, 169), (46, 102), (47, 70), (48, 201), (49, 168), (50, 210), (51, 140), (52, 92), (53, 97), (54, 457), (55, 144), (56, 305), (57, 112), (58, 113), (59, 345), (60, 236), (61, 83), (62, 135), (63, 201), (64, 89), (65, 278), (66, 161), (67, 215), (68, 167), (69, 195), (70, 594), (71, 160), (72, 134), (73, 166)]\n",
      "74 0.8820836950943595\n",
      "Cluster distribution:\n",
      "[(0, 150), (1, 157), (2, 416), (3, 93), (4, 113), (5, 152), (6, 252), (7, 251), (8, 179), (9, 116), (10, 38), (11, 670), (12, 205), (13, 205), (14, 340), (15, 224), (16, 56), (17, 122), (18, 260), (19, 316), (20, 165), (21, 93), (22, 258), (23, 143), (24, 137), (25, 181), (26, 305), (27, 131), (28, 136), (29, 198), (30, 167), (31, 175), (32, 283), (33, 500), (34, 56), (35, 124), (36, 359), (37, 215), (38, 163), (39, 136), (40, 122), (41, 148), (42, 226), (43, 134), (44, 259), (45, 191), (46, 144), (47, 155), (48, 135), (49, 90), (50, 221), (51, 406), (52, 459), (53, 121), (54, 69), (55, 195), (56, 299), (57, 175), (58, 185), (59, 204), (60, 114), (61, 255), (62, 70), (63, 138), (64, 131), (65, 169), (66, 102), (67, 4338), (68, 156), (69, 159), (70, 68), (71, 150), (72, 221), (73, 210), (74, 138), (75, 174), (76, 288), (77, 172), (78, 58), (79, 140), (80, 296), (81, 275)]\n",
      "82 0.8763070528223267\n",
      "Cluster distribution:\n",
      "[(0, 127), (1, 307), (2, 135), (3, 454), (4, 75), (5, 168), (6, 133), (7, 123), (8, 152), (9, 228), (10, 180), (11, 121), (12, 356), (13, 158), (14, 174), (15, 366), (16, 602), (17, 78), (18, 104), (19, 151), (20, 111), (21, 160), (22, 158), (23, 137), (24, 393), (25, 45), (26, 129), (27, 154), (28, 93), (29, 160), (30, 312), (31, 140), (32, 155), (33, 4181), (34, 263), (35, 133), (36, 446), (37, 349), (38, 243), (39, 188), (40, 146), (41, 131), (42, 139), (43, 205), (44, 170), (45, 129), (46, 264), (47, 86), (48, 203), (49, 80), (50, 46), (51, 154), (52, 101), (53, 112), (54, 208), (55, 135), (56, 170), (57, 71), (58, 147), (59, 348), (60, 209), (61, 156), (62, 104), (63, 125), (64, 127), (65, 206), (66, 84), (67, 228), (68, 152), (69, 179), (70, 104), (71, 93), (72, 115), (73, 145), (74, 99), (75, 173), (76, 142), (77, 201), (78, 183), (79, 378), (80, 189), (81, 109), (82, 232), (83, 131), (84, 234), (85, 61), (86, 109), (87, 166), (88, 144), (89, 235)]\n",
      "90 0.8690312522924593\n",
      "Cluster distribution:\n",
      "[(0, 145), (1, 319), (2, 37), (3, 59), (4, 4120), (5, 83), (6, 345), (7, 114), (8, 80), (9, 141), (10, 68), (11, 89), (12, 70), (13, 207), (14, 158), (15, 46), (16, 256), (17, 425), (18, 195), (19, 307), (20, 57), (21, 157), (22, 152), (23, 57), (24, 229), (25, 224), (26, 127), (27, 60), (28, 191), (29, 123), (30, 206), (31, 132), (32, 225), (33, 125), (34, 156), (35, 208), (36, 179), (37, 111), (38, 98), (39, 94), (40, 167), (41, 211), (42, 78), (43, 124), (44, 227), (45, 191), (46, 310), (47, 341), (48, 177), (49, 188), (50, 201), (51, 179), (52, 71), (53, 143), (54, 289), (55, 105), (56, 55), (57, 152), (58, 117), (59, 83), (60, 188), (61, 333), (62, 33), (63, 102), (64, 117), (65, 253), (66, 196), (67, 591), (68, 60), (69, 161), (70, 305), (71, 178), (72, 113), (73, 195), (74, 127), (75, 58), (76, 408), (77, 171), (78, 76), (79, 92), (80, 145), (81, 137), (82, 99), (83, 101), (84, 263), (85, 151), (86, 111), (87, 213), (88, 169), (89, 82), (90, 177), (91, 250), (92, 94), (93, 130), (94, 124), (95, 205), (96, 71), (97, 137)]\n",
      "98 0.8671174642242204\n"
     ]
    },
    {
     "data": {
      "image/png": "[encoded data removed]",
      "text/plain": [
       "<matplotlib.figure.Figure at 0x7f88af453fd0>"
      ]
     },
     "metadata": {},
     "output_type": "display_data"
    }
   ],
   "source": [
    "test_k()"
   ]
  },
  {
   "cell_type": "code",
   "execution_count": 59,
   "metadata": {
    "collapsed": true
   },
   "outputs": [],
   "source": [
    "def test_fea():\n",
    "    '''测试选择最优特征数量'''\n",
    "    dataset = load_data()    \n",
    "    print(\"%d documents\" % len(dataset))\n",
    "    \n",
    "    fea_num = []\n",
    "    scores = []\n",
    "    for i in range(11000,14001,500): \n",
    "        X,vectorizer = transform(dataset,n_features=i)\n",
    "        score = train(X,vectorizer,true_k=60)/len(dataset)\n",
    "        print (i,score)\n",
    "        fea_num.append(i)\n",
    "        scores.append(score)\n",
    "    plt.figure(figsize=(8,4))\n",
    "    plt.plot(fea_num,scores,label=\"error\",color=\"red\",linewidth=1)\n",
    "    plt.xlabel(\"features_num\")\n",
    "    plt.ylabel(\"error\")\n",
    "    plt.legend()\n",
    "    plt.show()"
   ]
  },
  {
   "cell_type": "code",
   "execution_count": 60,
   "metadata": {
    "scrolled": false
   },
   "outputs": [
    {
     "name": "stdout",
     "output_type": "stream",
     "text": [
      "20000 documents\n",
      "Cluster distribution:\n",
      "[(0, 270), (1, 484), (2, 148), (3, 597), (4, 217), (5, 227), (6, 157), (7, 333), (8, 161), (9, 403), (10, 321), (11, 455), (12, 186), (13, 393), (14, 264), (15, 405), (16, 486), (17, 254), (18, 343), (19, 413), (20, 224), (21, 98), (22, 151), (23, 138), (24, 229), (25, 119), (26, 195), (27, 5241), (28, 204), (29, 700), (30, 401), (31, 120), (32, 111), (33, 173), (34, 139), (35, 228), (36, 219), (37, 81), (38, 288), (39, 304), (40, 225), (41, 184), (42, 243), (43, 392), (44, 277), (45, 114), (46, 268), (47, 227), (48, 141), (49, 382), (50, 178), (51, 131), (52, 81), (53, 145), (54, 214), (55, 42), (56, 153), (57, 175), (58, 391), (59, 157)]\n",
      "11000 0.8911992717289193\n",
      "Cluster distribution:\n",
      "[(0, 35), (1, 485), (2, 145), (3, 236), (4, 253), (5, 141), (6, 252), (7, 459), (8, 459), (9, 343), (10, 168), (11, 182), (12, 141), (13, 223), (14, 260), (15, 273), (16, 286), (17, 591), (18, 156), (19, 294), (20, 146), (21, 94), (22, 487), (23, 403), (24, 487), (25, 211), (26, 192), (27, 57), (28, 709), (29, 5249), (30, 193), (31, 206), (32, 95), (33, 289), (34, 228), (35, 233), (36, 356), (37, 372), (38, 119), (39, 88), (40, 73), (41, 165), (42, 149), (43, 164), (44, 145), (45, 175), (46, 135), (47, 237), (48, 117), (49, 486), (50, 232), (51, 379), (52, 234), (53, 199), (54, 623), (55, 215), (56, 198), (57, 67), (58, 123), (59, 288)]\n",
      "11500 0.8942225054252549\n",
      "Cluster distribution:\n",
      "[(0, 183), (1, 189), (2, 150), (3, 645), (4, 209), (5, 273), (6, 346), (7, 458), (8, 203), (9, 43), (10, 490), (11, 459), (12, 87), (13, 209), (14, 338), (15, 202), (16, 202), (17, 252), (18, 258), (19, 117), (20, 205), (21, 159), (22, 189), (23, 139), (24, 205), (25, 455), (26, 59), (27, 150), (28, 401), (29, 526), (30, 579), (31, 244), (32, 66), (33, 208), (34, 231), (35, 186), (36, 223), (37, 195), (38, 446), (39, 149), (40, 94), (41, 359), (42, 130), (43, 131), (44, 111), (45, 5530), (46, 167), (47, 191), (48, 180), (49, 158), (50, 197), (51, 271), (52, 377), (53, 157), (54, 254), (55, 198), (56, 386), (57, 220), (58, 219), (59, 342)]\n",
      "12000 0.892026993444469\n",
      "Cluster distribution:\n",
      "[(0, 88), (1, 346), (2, 398), (3, 230), (4, 192), (5, 120), (6, 261), (7, 384), (8, 119), (9, 153), (10, 240), (11, 672), (12, 147), (13, 222), (14, 324), (15, 283), (16, 237), (17, 556), (18, 433), (19, 146), (20, 122), (21, 207), (22, 5331), (23, 563), (24, 179), (25, 353), (26, 354), (27, 389), (28, 219), (29, 263), (30, 164), (31, 135), (32, 139), (33, 217), (34, 213), (35, 109), (36, 170), (37, 207), (38, 60), (39, 120), (40, 611), (41, 507), (42, 194), (43, 366), (44, 302), (45, 87), (46, 150), (47, 161), (48, 161), (49, 209), (50, 252), (51, 85), (52, 404), (53, 221), (54, 98), (55, 247), (56, 186), (57, 434), (58, 130), (59, 130)]\n",
      "12500 0.8915074642728367\n",
      "Cluster distribution:\n",
      "[(0, 327), (1, 384), (2, 310), (3, 191), (4, 259), (5, 501), (6, 152), (7, 192), (8, 392), (9, 201), (10, 183), (11, 120), (12, 481), (13, 479), (14, 87), (15, 180), (16, 5532), (17, 153), (18, 218), (19, 161), (20, 369), (21, 364), (22, 178), (23, 229), (24, 70), (25, 255), (26, 447), (27, 254), (28, 311), (29, 225), (30, 53), (31, 577), (32, 123), (33, 254), (34, 155), (35, 165), (36, 205), (37, 393), (38, 171), (39, 165), (40, 207), (41, 461), (42, 672), (43, 108), (44, 304), (45, 153), (46, 119), (47, 89), (48, 370), (49, 119), (50, 162), (51, 302), (52, 432), (53, 109), (54, 170), (55, 126), (56, 201), (57, 115), (58, 224), (59, 91)]\n",
      "13000 0.8914516267206045\n",
      "Cluster distribution:\n",
      "[(0, 1), (1, 45), (2, 752), (3, 86), (4, 5), (5, 310), (6, 149), (7, 550), (8, 1), (9, 396), (10, 1), (11, 1), (12, 492), (13, 1), (14, 1), (15, 169), (16, 991), (17, 1), (18, 20), (19, 426), (20, 734), (21, 922), (22, 184), (23, 268), (24, 1), (25, 33), (26, 1), (27, 224), (28, 84), (29, 79), (30, 212), (31, 33), (32, 1), (33, 142), (34, 1), (35, 81), (36, 1), (37, 1), (38, 112), (39, 57), (40, 1), (41, 243), (42, 1), (43, 278), (44, 1), (45, 113), (46, 505), (47, 70), (48, 1), (49, 180), (50, 530), (51, 149), (52, 1), (53, 9639), (54, 3), (55, 37), (56, 482), (57, 1), (58, 43), (59, 153)]\n",
      "13500 0.9210710125626452\n",
      "Cluster distribution:\n",
      "[(0, 1), (1, 55), (2, 69), (3, 400), (4, 1), (5, 1), (6, 1), (7, 168), (8, 286), (9, 507), (10, 1), (11, 135), (12, 1), (13, 250), (14, 29), (15, 211), (16, 103), (17, 108), (18, 240), (19, 1), (20, 9215), (21, 702), (22, 129), (23, 193), (24, 236), (25, 3), (26, 3), (27, 1008), (28, 23), (29, 44), (30, 38), (31, 713), (32, 1), (33, 131), (34, 4), (35, 4), (36, 29), (37, 5), (38, 147), (39, 57), (40, 59), (41, 225), (42, 53), (43, 19), (44, 636), (45, 67), (46, 618), (47, 105), (48, 12), (49, 181), (50, 187), (51, 432), (52, 13), (53, 17), (54, 648), (55, 411), (56, 291), (57, 33), (58, 643), (59, 97)]\n",
      "14000 0.915078747468696\n"
     ]
    },
    {
     "data": {
      "image/png": "[encoded data removed]",
      "text/plain": [
       "<matplotlib.figure.Figure at 0x7f88a4f8e5f8>"
      ]
     },
     "metadata": {},
     "output_type": "display_data"
    }
   ],
   "source": [
    "test_fea()"
   ]
  },
  {
   "cell_type": "code",
   "execution_count": 61,
   "metadata": {
    "collapsed": true
   },
   "outputs": [],
   "source": [
    "def out():\n",
    "    '''在最优参数下输出聚类结果'''\n",
    "    dataset = load_data()\n",
    "    X,vectorizer = transform(dataset,n_features=11000)\n",
    "    score = train(X,vectorizer,true_k=65,showLable=True,plot=True)/len(dataset)\n",
    "    print (score)"
   ]
  },
  {
   "cell_type": "code",
   "execution_count": 62,
   "metadata": {},
   "outputs": [
    {
     "name": "stdout",
     "output_type": "stream",
     "text": [
      "Top terms per cluster:\n",
      "None\n",
      "Cluster 0: 医疗事故 医院 行政部门 卫生 手术 医疗机构 争议 部门 医生 当事人 申请 发生 条例 技术 协商\n",
      "Cluster 1: 不幸 签定 上海 劳动局 摔伤 出院 厂里 医生 认定 医药费 住院 几天 工伤 老公 国有企业\n",
      "Cluster 2: 孩子 离婚 抚养权 抚养费 两个 男方 老公 结婚 母亲 起诉 女方 扶养 判给 不让 生活\n",
      "Cluster 3: 起诉 法院 离婚 欠条 借条 开庭 朋友 强制执行 贷款 利息 逾期 时间 一年 欠钱 传票\n",
      "Cluster 4: 提出 离婚 女方 男方 彩礼 怀孕 结婚 孩子 一年 老公 赔偿 同意 两个 分手 半年\n",
      "Cluster 5: 财产 离婚 分割 婚前 婚后 分配 起诉 结婚 夫妻 老公 名下 孩子 出轨 女方 房子\n",
      "Cluster 6: 判刑 多久 拘留 朋友 金额 取保候审 几年 盗窃 受贿罪 看守所 诈骗 情况 非法 打架 法院\n",
      "Cluster 7: 辞职书 两个 公司 一个月 培训费 没到 应不应该 发给 签订合同 日期 算不算 违法 提前 支付 辞职\n",
      "Cluster 8: 举报 赌博 网上 处罚 重婚罪 几天 老婆 村长 判刑 证件 朋友 拘留 红包 调查 诈骗\n",
      "Cluster 9: 父母 小儿子 其他人 遗嘱 继承 老人 去世 房屋 户口 家里 房子 图片 国际 国道 国有土地\n",
      "Cluster 10: 协议 签订 过户 公司 离婚 一份 转让 房子 签字 房屋 签了 拆迁 房主 购房 法院\n",
      "Cluster 11: 最少 次要 事故 责任 在场 国道 国家机关 国有 在外 国有企业 国有土地 国际 在内 国家 图片\n",
      "Cluster 12: 证明 房产 资料 办理 证据 提供 医院 派出所 离婚 犯罪 父亲 出生 户籍 房子 死亡\n",
      "Cluster 13: 男方 有病 四年 分开 身体 条件 经济 出轨 抚养费 不到 上班 女方 我该 起诉 离婚\n",
      "Cluster 14: 赔偿 责任 医院 死亡 全责 导致 受伤 住院 车祸 我家 事故 工作 上班 金额 轻伤\n",
      "Cluster 15: 公司 工资 劳动合同 工作 上班 离职 辞退 一家 辞职 赔偿 签订 合同 补偿 签合同 一个月\n",
      "Cluster 16: 两年 离婚 分居 起诉 欠条 结婚 老公 朋友 我该 孩子 法院 公司 一年 单位 借条\n",
      "Cluster 17: 教师 时间 职责 值班 之外 节假日 学校 有没有 教学 十个 报酬 制定 工作 乡镇 教育\n",
      "Cluster 18: 垫付 医疗 车主 保险公司 费用 齐全 国有土地 国外 国家 国家机关 国有 国有企业 国际 国道 图片\n",
      "Cluster 19: 朋友 责任 我该 情况 单位 手机 报警 诈骗 我家 医院 派出所 工作 贷款 老公 法院\n",
      "Cluster 20: 鉴定 伤残 工伤 骨折 赔偿 几级 伤情 轻伤 二级 交通事故 受伤 机构 工地 关节 标准\n",
      "Cluster 21: 被告 原告 法院 起诉 判决 开庭 传票 离婚 强制执行 撤诉 上诉 赔偿 判决书 送达 申请\n",
      "Cluster 22: 手续 离婚 办理 事情 集资 取保候审 万会判 户口 过户 诈骗 名字 姐姐 离职 看守所 起诉\n",
      "Cluster 23: 钱要 一辆车 欠条 回来 图片 国家机关 国有 国有企业 国有土地 国道 国际 图纸 国外 土地 土地证\n",
      "Cluster 24: 吸收 公众 非法 存款 看守所 北京市 第一 海淀区 涉嫌 被关 朋友 关在 取保候审 关到 辩护律师\n",
      "Cluster 25: 男人 离婚 女人 孩子 感情 老婆 出轨 已婚 在外 老公 起诉 外面 妹妹 女方 犯罪\n",
      "Cluster 26: 合法 公司 单位 合同 工资 辞职 工厂 上班 利息 一个月 房子 贷款 加班 小时 违约金\n",
      "Cluster 27: 超市 赔偿 顾客 电梯 店长 上班 老板 购买 打开 几天 投诉 工资 食品 中学 弟弟\n",
      "Cluster 28: 被执行人 申请人 执行 执行庭 法院 经济纠纷 强制执行 案件 和解 乘坐 追加 拘留 交还 老婆 外地\n",
      "Cluster 29: 父母 房子 子女 离婚 婚后 房产 名字 出资 男方 孩子 财产 儿子 父亲 首付 名下\n",
      "Cluster 30: 女儿 离婚 儿子 老公 两个 结婚 孩子 抚养权 父亲 想要 男方 财产 房子 母亲 遗嘱\n",
      "Cluster 31: 工资 老板 上班 辞职 一个月 工作 离职 发工资 拖欠 劳动合同 拖欠工资 工地 我该 合同 单位\n",
      "Cluster 32: 担保 担保人 朋友 借款人 贷款 银行 起诉 借款 债务人 还款 利息 法院 偿还 冻结 贷款人\n",
      "Cluster 33: 一男一女 离婚 孩子 两个 女方 娃娃 提出 同意 夫妻 抚养权 失踪 喝酒 一辆车 老公 十年\n",
      "Cluster 34: 我要 离婚 老公 起诉 同意 孩子 男方 感情 不离 责任 承担 负责 小孩 投诉 两个\n",
      "Cluster 35: 女方 离婚 孩子 结婚 男方 抚养费 彩礼 儿子 出轨 户口 女孩 提出 房子 抚养权 两个\n",
      "Cluster 36: 单车 押金 消费者 几次 退款 不肯 对此 撞坏 摩托 电话 一家 路上 一辆 负责 摩托车\n",
      "Cluster 37: 爸爸 妈妈 孩子 去世 爷爷 离婚 奶奶 房子 儿子 哥哥 抚养费 爷爷奶奶 爸爸妈妈 家里 受伤\n",
      "Cluster 38: 土地 确权 我家 承包 补偿 使用证 土地证 房子 收回 解决 村里 户口 农民 村民 拆迁\n",
      "Cluster 39: 伤残 几级 十级 骨折 赔偿 食指 右手 左手 九级 交通事故 能评 中指 鉴定 工伤 能定\n",
      "Cluster 40: 男方 离婚 孩子 同意 抚养费 结婚 彩礼 起诉 名字 婚后 感情 父母 夫妻 房产 房子\n",
      "Cluster 41: 冰毒 贩卖 多久 能判 毒品 持有 非法 量刑 贩卖毒品 几年 朋友 会判 被判 吸食 未成年人\n",
      "Cluster 42: 征收 土地 一亩 补偿 房屋 政府 农民 国家 我家 赔偿 有权 国有土地 农村 价格 集体土地\n",
      "Cluster 43: 等级 伤残 工伤 骨折 赔偿 工伤保险 鉴定 时间 下降 评到 公司 受伤 脚趾 左脚 食指\n",
      "Cluster 44: 摩托车 驾驶 无证 责任 醉酒 小车 驾驶证 行驶 交警 相撞 无牌 一辆 受伤 赔偿 电动车\n",
      "Cluster 45: 房子 名字 房产证 离婚 结婚 婚后 婚前 一套 老公 过户 贷款 拆迁 夫妻 首付 共同财产\n",
      "Cluster 46: 借据 借钱 担保人 每次 万块 姑姑 要债 到期 一年 付给 欠款人 胜诉 伪造 没收 转账\n",
      "Cluster 47: 学校 学生 老师 实习 毕业 责任 学费 工作 赔偿 合同 孩子 同学 一名 大学 意外\n",
      "Cluster 48: 厂里 上班 工资 辞职 工伤 工厂 老板 赔偿 合同 一个月 工作 下班 劳动合同 签合同 不批\n",
      "Cluster 49: 天数 工资 上班 老板 聊天记录 本月 旷工 只能 月工资 投诉 国际 国道 图片 图纸 国有土地\n",
      "Cluster 50: 男方 女方 离婚 孩子 同意 结婚 起诉 出轨 夫妻 提出 房子 财产 抚养权 彩礼 抚养费\n",
      "Cluster 51: 骨折 工地 赔偿 粉碎性 几级 肋骨 工伤 腰椎 医院 导致 鼻骨 手术 能评 轻伤 锁骨\n",
      "Cluster 52: 交通事故 发生 责任 赔偿 死亡 全责 交警 保险公司 司机 认定书 车辆 误工费 我方 车主 事故\n",
      "Cluster 53: 物业 物业费 小区 业主 物业公司 房子 装修 电梯 漏水 标准 我家 车库 钥匙 保安 开发商\n",
      "Cluster 54: 小孩 离婚 两个 男方 女方 抚养费 结婚 老公 老婆 抚养权 孩子 户口 房子 财产 同意\n",
      "Cluster 55: 程序 离婚 朋友 申请 想要 结婚证 同意 法院 诉讼 办理 冻结 咨询 登记 理赔 房子\n",
      "Cluster 56: 员工 公司 劳动合同 工资 辞退 老板 企业 单位 赔偿 上班 工厂 补偿 签订 工作 辞职\n",
      "Cluster 57: 报名 退钱 交了 年龄 录取 时间 学校 退款 组织 学生 学习 违法 实习期 考试 培训\n",
      "Cluster 58: 离婚 老公 同意 结婚 感情 一方 协议书 夫妻 老婆 出轨 起诉 分居 我该 不想 儿子\n",
      "Cluster 59: 想要 孩子 离婚 抚养权 老公 男方 两个 抚养费 女方 小孩 起诉 结婚 女儿 回来 同意\n",
      "Cluster 60: 工伤 赔偿 认定 单位 上班 公司 工资 期间 十级 申请 下班 工作 伤残 受伤 途中\n",
      "Cluster 61: 协议 离婚 抚养费 起诉 手续 办理 孩子 民政局 户口本 夫妻 支付 扶养费 共同财产 签了 同意\n",
      "Cluster 62: 合同 公司 到期 签订 房东 签了 续签 中介 违约 违约金 押金 购房 签合同 一个月 租房\n",
      "Cluster 63: 抚养 孩子 离婚 女方 男方 抚养费 能力 抚养权 协议 母亲 子女 父亲 儿子 父母 一岁\n",
      "Cluster 64: 结婚证 离婚 结婚 孩子 男方 起诉 户口本 老公 没领 户口 办理 女方 彩礼 分开 年龄\n",
      "Cluster distribution:\n",
      "[(0, 27), (1, 1), (2, 545), (3, 601), (4, 138), (5, 217), (6, 284), (7, 1), (8, 47), (9, 1), (10, 248), (11, 1), (12, 121), (13, 1), (14, 603), (15, 894), (16, 155), (17, 1), (18, 1), (19, 8265), (20, 168), (21, 95), (22, 151), (23, 1), (24, 59), (25, 51), (26, 177), (27, 32), (28, 13), (29, 227), (30, 181), (31, 670), (32, 139), (33, 9), (34, 168), (35, 171), (36, 4), (37, 97), (38, 117), (39, 207), (40, 207), (41, 60), (42, 52), (43, 26), (44, 273), (45, 655), (46, 6), (47, 109), (48, 117), (49, 4), (50, 325), (51, 344), (52, 298), (53, 105), (54, 231), (55, 80), (56, 158), (57, 13), (58, 662), (59, 89), (60, 315), (61, 69), (62, 640), (63, 76), (64, 197)]\n"
     ]
    },
    {
     "data": {
      "image/png": "[encoded data removed]",
      "text/plain": [
       "<matplotlib.figure.Figure at 0x7f88a4f8e7b8>"
      ]
     },
     "metadata": {},
     "output_type": "display_data"
    },
    {
     "name": "stdout",
     "output_type": "stream",
     "text": [
      "0.9081253767941072\n"
     ]
    }
   ],
   "source": [
    "out()"
   ]
  },
  {
   "cell_type": "markdown",
   "metadata": {
    "collapsed": true
   },
   "source": [
    "# 60万条文本的最终聚类结果\n"
   ]
  },
  {
   "cell_type": "code",
   "execution_count": null,
   "metadata": {
    "scrolled": false
   },
   "outputs": [
    {
     "name": "stdout",
     "output_type": "stream",
     "text": [
      "Top terms per cluster:\n",
      "None\n",
      "Cluster 0: 我该 情况 报警 医院 工作 咨询 老公 欠条 拘留 土地 办理 费用 公司 解决 网上\n",
      "Cluster 1: 申请 强制执行 法院 执行 离婚 保全 财产 租房 公司 运输 经营 条件 再审 判决 道路\n",
      "Cluster 2: 起诉 离婚 法院 老公 分居 欠条 男方 费用 老婆 我要 第二次 开庭 证据 孩子 第一次\n",
      "Cluster 3: 期间 上班 工作 工资 工伤 怀孕 住院 公司 赔偿 离婚 受伤 医院 存续 产假 治疗\n",
      "Cluster 4: 工伤 赔偿 认定 上班 公司 十级 厂里 受伤 途中 骨折 下班 工作 几级 工资 九级\n",
      "Cluster 5: 彩礼 结婚 女方 离婚 男方 结婚证 退还 提出 返还 一年 订婚 半年 孩子 领证 酒席\n",
      "Cluster 6: 房子 离婚 一套 房产证 名字 老公 婚前 婚后 结婚 名下 孩子 财产 首付 贷款 夫妻\n",
      "Cluster 7: 儿子 离婚 老公 房子 老人 两个 父母 结婚 孩子 父亲 财产 抚养权 房产 女儿 名字\n",
      "Cluster 8: 女方 男方 离婚 孩子 提出 出轨 结婚 财产 同意 起诉 房子 夫妻 婚后 抚养权 婚前\n",
      "Cluster 9: 社保 公司 工作 劳动合同 单位 缴纳 上班 工资 员工 离职 赔偿 补偿 补交 签合同 辞职\n",
      "Cluster 10: 伤残 几级 十级 骨折 赔偿 工伤 交通事故 九级 能评 右手 左手 鉴定 食指 等级 中指\n",
      "Cluster 11: 合同 到期 公司 签订 签了 续签 违约金 定金 中介 购房 违约 一份 甲方 一年 不想\n",
      "Cluster 12: 取保候审 申请 朋友 看守所 检察院 判刑 刑事拘留 涉嫌 拘留 办理 北京市 缓刑 刑拘 逮捕 保证金\n",
      "Cluster 13: 辞职 工资 一个月 公司 提前 老板 工作 上班 劳动合同 试用期 发工资 合同 不批 提出 签合同\n",
      "Cluster 14: 判刑 朋友 受贿罪 拘留 盗窃 金额 看守所 几年 冰毒 抢劫 刑事拘留 非法 万元 多长时间 诈骗\n",
      "Cluster 15: 小孩 离婚 两个 抚养费 男方 女方 抚养权 老公 结婚证 结婚 户口 老婆 孩子 想要 抚养\n",
      "Cluster 16: 鉴定 伤残 工伤 十级 赔偿 骨折 受伤 交通事故 九级 等级 伤情 出院 申请 医院 公司\n",
      "Cluster 17: 名字 房产证 婚后 婚前 房子 离婚 共同财产 买房 夫妻 男方 老公 财产 房产 首付 女方\n",
      "Cluster 18: 交通事故 发生 全责 赔偿 死亡 责任 保险公司 交警 误工费 认定书 司机 理赔 费用 事故 车主\n",
      "Cluster 19: 离婚 老公 财产 协议书 分居 手续 办理 老婆 出轨 夫妻 感情 提出 咨询 男方 分割\n",
      "Cluster 20: 两个 孩子 离婚 老公 男孩 男方 女孩 结婚 女方 抚养权 感情 想要 财产 多月 起诉\n",
      "Cluster 21: 父亲 母亲 去世 房子 房产 继承 父母 遗嘱 孩子 子女 离婚 名字 继母 遗产 名下\n",
      "Cluster 22: 法院 起诉 判决 离婚 执行 传票 被告 开庭 强制执行 冻结 判决书 受理 原告 收到 上诉\n",
      "Cluster 23: 贷款 房子 公司 逾期 朋友 还款 离婚 身份证 网上 担保 抵押 买房 担保人 首付 合同\n",
      "Cluster 24: 拆迁 补偿 房屋 房子 农村 安置 户口 平方 政府 标准 房产证 宅基地 赔偿 我家 面积\n",
      "Cluster 25: 赔偿 死亡 医院 保险公司 全责 受伤 工作 车祸 公司 导致 费用 司机 情况 上班 误工费\n",
      "Cluster 26: 电动车 责任 逆行 一辆 交警 行驶 机动车 相撞 受伤 赔偿 全责 汽车 骨折 医院 划分\n",
      "Cluster 27: 工厂 上班 工资 赔偿 工作 老板 工伤 员工 厂里 劳动合同 辞职 工人 机器 搬迁 辞工\n",
      "Cluster 28: 摩托车 驾驶 无证 责任 驾驶证 小车 交警 相撞 一辆 无牌 行驶 受伤 划分 赔偿 事故\n",
      "Cluster 29: 朋友 借钱 欠条 起诉 报警 拘留 情况 借给 看守所 喝酒 我该 不到 警察 老公 责任\n",
      "Cluster 30: 结婚 离婚 老公 孩子 财产 男方 房子 感情 一年 女方 婚前 共同财产 婚后 户口 登记\n",
      "Cluster 31: 多久 判刑 会判 被判 朋友 离婚 要判 能判 起诉 拘留 冰毒 开庭 法院 盗窃 贩卖\n",
      "Cluster 32: 吸收 公众 非法 存款 北京市 看守所 第一 涉嫌 海淀区 朋友 被关 集资 标准 关在 量刑\n",
      "Cluster 33: 单位 工作 劳动合同 上班 工资 补偿 合同 辞退 赔偿 解除 员工 工伤 辞职 签订 职工\n",
      "Cluster 34: 女儿 离婚 儿子 老公 两个 孩子 抚养权 男方 结婚 想要 房子 抚养费 女方 财产 有个\n",
      "Cluster 35: 借条 朋友 借钱 起诉 还款 日期 利息 借款 转账 借给 欠条 借款人 记录 万元 我该\n",
      "Cluster 36: 协议 离婚 财产 孩子 签订 一份 夫妻 房子 办理 签字 男方 民政局 婚前 签了 法律效力\n",
      "Cluster 37: 手机 分期付款 一部 朋友 还款 逾期 贷款 身份证 苹果 起诉 报警 我该 打电话 警察 利息\n",
      "Cluster 38: 离职 工资 公司 自动 一个月 劳动合同 工作 提前 上班 员工 申请 发工资 合同 试用期 手续\n",
      "Cluster 39: 诈骗 集资 会判 事情 金额 涉嫌 取保候审 网络 朋友 几年 姐姐 看守所 累犯 减刑 万会判\n",
      "Cluster 40: 合法 公司 工资 合同 利息 逾期 土地 工作 单位 员工 上班 一个月 小时 网贷 劳动合同\n",
      "Cluster 41: 处罚 驾驶 朋友 减轻 酒驾 逃逸 加重 醉驾 醉酒 无证 刑事 交警 驾驶证 酒精 拘留\n",
      "Cluster 42: 回来 能要 微信 欠条 离婚 朋友 老公 报警 老婆 起诉 我该 钱能 定金 转账 不想\n",
      "Cluster 43: 抚养费 孩子 离婚 男方 女方 支付 协议 起诉 抚养 每月 两个 抚养权 一个月 法院 父亲\n",
      "Cluster 44: 责任 承担 划分 事故 赔偿 交警 行驶 电瓶车 司机 机动车 发生 医院 死亡 车辆 受伤\n",
      "Cluster 45: 轻伤 二级 打架 打成 赔偿 鉴定 骨折 一级 判刑 轻微伤 故意伤害 法医鉴定 重伤 打伤 动手\n",
      "Cluster 46: 孩子 离婚 抚养权 男方 女方 想要 老公 抚养 两个 结婚 户口 判给 起诉 抚养费 爸爸\n",
      "Cluster 47: 证明 证据 离婚 医院 犯罪 办理 提供 分居 户口 起诉 派出所 记录 法院 公司 出具\n",
      "Cluster 48: 房屋 合同 征收 农村 租赁 购买 房产证 房子 补偿 开发商 拆迁 办理 土地 宅基地 继承\n",
      "Cluster 49: 老板 工资 上班 拖欠 一个月 发工资 工作 劳动合同 拖欠工资 我该 公司 签合同 农民工 私人 打工\n",
      "Cluster 50: 银行 信用卡 贷款 起诉 还款 冻结 抵押 法院 担保 逾期 银行贷款 银行卡 担保人 朋友 房子\n",
      "Cluster 51: 房东 押金 房租 合同 房子 租房 到期 中介 我租 一年 一个月 违约 签合同 退房 搬走\n",
      "Cluster 52: 父母 子女 离婚 房子 房产 婚后 财产 孩子 男方 夫妻 继承 结婚 名下 出资 分割\n",
      "Cluster 53: 仲裁 劳动 申请 公司 劳动合同 工资 工作 关系 解除 委员会 争议 签订 老板 单位 员工\n",
      "Cluster 54: 骨折 粉碎性 赔偿 肋骨 几级 工伤 手术 医院 导致 伤残 右手 上班 出院 钢板 住院\n",
      "Cluster 55: 有人 我该 外面 起诉 报警 照片 打电话 欠条 威胁 我家 信息 老公 离婚 微信 电话\n",
      "Cluster 56: 赌博 老公 离婚 网络 网上 参与 朋友 拘留 报警 判刑 举报 债务 高利贷 多久 赌场\n",
      "Cluster 57: 违法 算不算 公司 工资 劳动合同 停车 员工 罚款 这算 工作 朋友 情况 单位 所得 利息\n",
      "Cluster 58: 结婚证 离婚 孩子 结婚 办理 户口本 户口 起诉 没领 老公 男方 身份证 离婚证 手续 女方\n",
      "Cluster 59: 公司 劳动合同 工资 工作 员工 上班 辞退 赔偿 合同 补偿 一家 签订 股东 解除 我该\n",
      "Cluster 60: 过户 房子 房产 房产证 办理 名下 二手房 手续 一套 协议 房主 卖方 公证 离婚 合同\n",
      "Cluster 61: 派出所 拘留 打架 报案 立案 报警 调解 朋友 警察 轻微伤 我该 情况 民警 医院 北京\n",
      "Cluster 62: 同意 离婚 男方 老公 起诉 一方 我该 女方 感情 分居 孩子 我要 法院 提出 感情破裂\n",
      "Cluster 63: 我家 房子 邻居 土地 楼上 他家 漏水 赔偿 我该 物业 农村 孩子 村里 补偿 政府\n",
      "Cluster 64: 工地 干活 老板 赔偿 受伤 骨折 工伤 工人 上班 摔伤 工资 医院 死亡 包工头 误工费\n",
      "Cluster distribution:\n"
     ]
    }
   ],
   "source": [
    "% run question_cluster.py"
   ]
  },
  {
   "cell_type": "markdown",
   "metadata": {
    "collapsed": true
   },
   "source": [
    "## 总结\n",
    "\n",
    "从上面聚类结果可以看到，我们一共分了65个类别；但是很明显有许多类其实是同一类的，但是被分开成多个类别，比如婚姻家庭这个类别，Cluster 0,1,5,7,8,10,16,23,24,27,31，32,38,48,49,54,56,57,58,59,61这21个类别都是关于婚姻家庭的，而且大部分都是有关离婚的问题。\n",
    "\n",
    "从聚类数量80到65，都有这样的现象，经过仔细观察，发现，它们虽然都是有关离婚的问题，但是却是不同的性质离婚，因此可以将它们看做婚姻家庭下面的小类别。\n",
    "\n",
    "比如：\n",
    "\n",
    "> Cluster 6: 房子 离婚 一套 房产证 名字 老公 婚前 婚后 结婚 名下 孩子 财产 首付 贷款 夫妻\n",
    "\n",
    "这个类别的离婚是和房产分配有关的。\n",
    "\n",
    "> Cluster 15: 小孩 离婚 两个 抚养费 男方 女方 抚养权 老公 结婚证 结婚 户口 老婆 孩子 想要 抚养\n",
    "\n",
    "> Cluster 20: 两个 孩子 离婚 老公 男孩 男方 女孩 结婚 女方 抚养权 感情 想要 财产 多月 起诉\n",
    "\n",
    "> Cluster 34: 女儿 离婚 儿子 老公 两个 孩子 抚养权 男方 结婚 想要 房子 抚养费 女方 财产 有个\n",
    "\n",
    "> Cluster 46: 孩子 离婚 抚养权 男方 女方 想要 老公 抚养 两个 结婚 户口 判给 起诉 抚养费 爸爸\n",
    "\n",
    "这些类别的离婚是和孩子抚养权相关的。\n",
    "\n",
    "> Cluster 17: 名字 房产证 婚后 婚前 房子 离婚 共同财产 买房 夫妻 男方 老公 财产 房产 首付 女方\n",
    "\n",
    "这个类别是婚后婚前，离婚财产分配的问题。\n",
    "\n",
    "> Cluster 19: 离婚 老公 财产 协议书 分居 手续 办理 老婆 出轨 夫妻 感情 提出 咨询 男方 分割\n",
    "\n",
    "> Cluster 10: 男方 离婚 孩子 同意 女方 起诉 出轨 结婚 提出 房子 财产 婚后 怀孕 婚前 父母\n",
    "\n",
    "这些是出轨离婚的问题。\n",
    "\n",
    "等等。。。。。"
   ]
  },
  {
   "cell_type": "code",
   "execution_count": null,
   "metadata": {
    "collapsed": true
   },
   "outputs": [],
   "source": []
  }
 ],
 "metadata": {
  "kernelspec": {
   "display_name": "Python 3",
   "language": "python",
   "name": "python3"
  },
  "language_info": {
   "codemirror_mode": {
    "name": "ipython",
    "version": 3
   },
   "file_extension": ".py",
   "mimetype": "text/x-python",
   "name": "python",
   "nbconvert_exporter": "python",
   "pygments_lexer": "ipython3",
   "version": "3.6.1"
  }
 },
 "nbformat": 4,
 "nbformat_minor": 2
}
