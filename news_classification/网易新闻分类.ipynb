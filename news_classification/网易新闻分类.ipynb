{
 "cells": [
  {
   "cell_type": "code",
   "execution_count": 1,
   "metadata": {
    "collapsed": true
   },
   "outputs": [],
   "source": [
    "import numpy as np\n",
    "import pickle\n",
    "import os\n",
    "# from gensim import models,corpora\n",
    "from sklearn.naive_bayes import MultinomialNB\n",
    "from sklearn.metrics import precision_recall_curve \n",
    "from sklearn.metrics import classification_report \n",
    "from sklearn.cross_validation import train_test_split  \n",
    "from sklearn.feature_extraction.text import  CountVectorizer  \n",
    "from sklearn.feature_extraction.text import  TfidfVectorizer  "
   ]
  },
  {
   "cell_type": "code",
   "execution_count": 2,
   "metadata": {
    "collapsed": true
   },
   "outputs": [],
   "source": [
    "def make_idf_vocab(train_data):\n",
    "    if os.path.exists('./data/idf.pkl'):\n",
    "        idf = pickle.load(open('./data/idf.pkl','rb'))\n",
    "        vocab = pickle.load(open('./data/vocab.pkl','rb'))\n",
    "    else:\n",
    "        word_to_doc = {}\n",
    "        idf = {}\n",
    "        total_doc_num = float(len(train_data))\n",
    "\n",
    "        for doc in train_data:\n",
    "            for word in set(doc):\n",
    "                if word not in word_to_doc.keys():\n",
    "                    word_to_doc[word] = 1\n",
    "                else:\n",
    "                    word_to_doc[word] += 1\n",
    "\n",
    "        for word in word_to_doc.keys():\n",
    "            if word_to_doc[word] > 10:\n",
    "                idf[word] = np.log(total_doc_num/(word_to_doc[word]+1))\n",
    "\n",
    "        sort_idf = sorted(idf.items(),key=lambda x:x[1])\n",
    "        vocab = [x[0] for x in sort_idf]\n",
    "        pickle.dump(idf,open('./data/idf.pkl','wb'))\n",
    "        pickle.dump(vocab,open('./data/vocab.pkl','wb'))\n",
    "    return idf,vocab\n",
    "\n",
    "def cal_term_freq(doc):\n",
    "    term_freq = {}\n",
    "    for word in doc:\n",
    "        if word not in term_freq.keys():\n",
    "            term_freq[word] = 1\n",
    "        else:\n",
    "            term_freq[word] += 1\n",
    "    for word in term_freq.keys():\n",
    "        term_freq[word] = term_freq[word]/float(len(doc))\n",
    "    return term_freq\n",
    "\n",
    "def make_doc_feature(vocab,idf,doc,topN):\n",
    "    doc_feature = [0.]*topN\n",
    "    vocab = vocab[:topN]\n",
    "    tf = cal_term_freq(doc)\n",
    "    for word in doc:\n",
    "        if word in vocab:\n",
    "            index = vocab.index(word)\n",
    "            doc_feature[index] = tf[word]*idf[word]\n",
    "    return doc_feature\n",
    "\n",
    "def make_tfidf(train_data,vocab,idf,topN):\n",
    "    tfidf_data = []\n",
    "    for doc in train_data:\n",
    "        doc_feature = make_doc_feature(vocab,idf,doc,topN)\n",
    "        tfidf_data.append(doc_feature)\n",
    "    return tfidf_data"
   ]
  },
  {
   "cell_type": "code",
   "execution_count": 3,
   "metadata": {
    "collapsed": true
   },
   "outputs": [],
   "source": [
    "train_data = pickle.load(open('./data/train_data.pkl','rb'))\n",
    "train_label = pickle.load(open('./data/train_label.pkl','rb'))"
   ]
  },
  {
   "cell_type": "code",
   "execution_count": 11,
   "metadata": {
    "collapsed": true
   },
   "outputs": [],
   "source": [
    "idf,vocab = make_idf_vocab(train_data)\n",
    "tfidf_data = make_tfidf(train_data,vocab,idf,6000)\n",
    "train_x = np.array(tfidf_data[:13500])\n",
    "train_y = np.array(train_label[:13500])\n",
    "val_x = np.array(tfidf_data[13500:])\n",
    "val_y = np.array(train_label[13500:])"
   ]
  },
  {
   "cell_type": "code",
   "execution_count": 18,
   "metadata": {},
   "outputs": [
    {
     "data": {
      "text/plain": [
       "(13500, 13500)"
      ]
     },
     "execution_count": 18,
     "metadata": {},
     "output_type": "execute_result"
    }
   ],
   "source": [
    "# train_y = train_y.ravel()\n",
    "# val_y = val_y.ravel()\n",
    "# len(train_y),len(train_x)"
   ]
  },
  {
   "cell_type": "code",
   "execution_count": 19,
   "metadata": {},
   "outputs": [
    {
     "data": {
      "text/plain": [
       "array(['Military', 'Medicine', 'Military', 'Sports', 'Culture'], \n",
       "      dtype='<U8')"
      ]
     },
     "execution_count": 19,
     "metadata": {},
     "output_type": "execute_result"
    }
   ],
   "source": [
    "len(val_x),len(val_y)\n",
    "val_y[:5]"
   ]
  },
  {
   "cell_type": "code",
   "execution_count": 20,
   "metadata": {},
   "outputs": [
    {
     "name": "stdout",
     "output_type": "stream",
     "text": [
      "accuracy rate: 0.94696969697\n"
     ]
    }
   ],
   "source": [
    "clf = MultinomialNB().fit(train_x, train_y)\n",
    "predicted = clf.predict(val_x) \n",
    "acc = np.mean(predicted == val_y)\n",
    "print('accuracy rate:',acc)  "
   ]
  },
  {
   "cell_type": "code",
   "execution_count": 21,
   "metadata": {},
   "outputs": [
    {
     "name": "stdout",
     "output_type": "stream",
     "text": [
      "0.591515151515\n"
     ]
    }
   ],
   "source": [
    "from sklearn import neighbors \n",
    "knn = neighbors.KNeighborsClassifier()  \n",
    " \n",
    "knn.fit(train_x, train_y)  \n",
    "predicted = knn.predict(val_x) \n",
    "acc = np.mean(predicted == val_y)\n",
    "print(acc)  "
   ]
  },
  {
   "cell_type": "markdown",
   "metadata": {},
   "source": [
    "# 在测试集上验证准确率"
   ]
  },
  {
   "cell_type": "code",
   "execution_count": 22,
   "metadata": {},
   "outputs": [
    {
     "name": "stdout",
     "output_type": "stream",
     "text": [
      "accuracy rate: 0.947222222222\n"
     ]
    }
   ],
   "source": [
    "test_data = pickle.load(open('./data/test_data.pkl','rb'))\n",
    "test_label = pickle.load(open('./data/test_label.pkl','rb'))\n",
    "\n",
    "tfidf_test = make_tfidf(test_data,vocab,idf,6000)\n",
    "tfidf_test = np.array(tfidf_test)\n",
    "\n",
    "predicted = clf.predict(tfidf_test) \n",
    "acc = np.mean(predicted == test_label)\n",
    "print('accuracy rate:',acc)  "
   ]
  },
  {
   "cell_type": "code",
   "execution_count": null,
   "metadata": {
    "collapsed": true
   },
   "outputs": [],
   "source": []
  }
 ],
 "metadata": {
  "kernelspec": {
   "display_name": "Python 3",
   "language": "python",
   "name": "python3"
  },
  "language_info": {
   "codemirror_mode": {
    "name": "ipython",
    "version": 3
   },
   "file_extension": ".py",
   "mimetype": "text/x-python",
   "name": "python",
   "nbconvert_exporter": "python",
   "pygments_lexer": "ipython3",
   "version": "3.6.2"
  }
 },
 "nbformat": 4,
 "nbformat_minor": 2
}
