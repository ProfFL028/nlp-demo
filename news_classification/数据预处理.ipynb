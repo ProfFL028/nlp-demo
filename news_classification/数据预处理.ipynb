{
 "cells": [
  {
   "cell_type": "code",
   "execution_count": 1,
   "metadata": {},
   "outputs": [
    {
     "data": {
      "text/plain": [
       "['Auto_0.txt', 'Auto_1.txt', 'Auto_10.txt', 'Auto_100.txt', 'Auto_1000.txt']"
      ]
     },
     "execution_count": 1,
     "metadata": {},
     "output_type": "execute_result"
    }
   ],
   "source": [
    "import pandas as pd\n",
    "import matplotlib.pyplot as plt\n",
    "import os\n",
    "\n",
    "file_dir = './corpus_6_4000'\n",
    "\n",
    "file_list = os.listdir(file_dir)\n",
    "file_list[:5]"
   ]
  },
  {
   "cell_type": "code",
   "execution_count": 2,
   "metadata": {},
   "outputs": [
    {
     "data": {
      "text/plain": [
       "24000"
      ]
     },
     "execution_count": 2,
     "metadata": {},
     "output_type": "execute_result"
    }
   ],
   "source": [
    "len(file_list)"
   ]
  },
  {
   "cell_type": "code",
   "execution_count": 3,
   "metadata": {
    "collapsed": true
   },
   "outputs": [],
   "source": [
    "datas = []\n",
    "classes = []\n",
    "for file in file_list:\n",
    "    file_path = file_dir + '/' + file\n",
    "    with open(file_path) as f:\n",
    "        data = f.read()\n",
    "    datas.append(data)\n",
    "    cla = file.split('_')[0]\n",
    "    classes.append(cla)"
   ]
  },
  {
   "cell_type": "code",
   "execution_count": 4,
   "metadata": {},
   "outputs": [
    {
     "data": {
      "text/plain": [
       "['大C4毕加索首现优惠 现车降5000元现货供应\\n网上车市1月4日报道 \\n是以进口方式引进的一款集合了多项科技的MPV轿车。它搭载了雪铁龙最新的技术，将中央集控式方向盘、全新CVVT可变气门发动机引入其中，根据网上车市价格监测系统显示，目前大C4毕加索最高可优惠现金5000元。\\n据4S店销售人员介绍，目前C4大毕加索现车可优惠现金5000元，全系车型有舒适版和豪华版两款车型，售价分别为27.68万和30.68万。目前现车供货比较充足，现车颜色也比较齐全。消费者可在元旦期间到店看车选购。\\n \\n大C4毕加索给人的第一感觉就是“大”：车长4.59米、轴距超过了2.7米，车顶高1.68米；超大的前挡风玻璃几乎延伸到了前排乘客的头顶，可视角度达到了惊人的70度，为驾驶者提供了一个非常出色的视野。复合式设计的超大头灯摄人心魂；前散热格栅上宽大的镀铬双人字齿轮标一直延伸到两个前车灯内侧，为大C4毕加索更添了一分干练和强悍；采用的柱式LED组合的大面积直立式尾灯十分醒目，同时也提高了夜间行车的辨识性。\\n \\n大C4-毕加索的内部整理箱可谓是一应俱全，除了常规的手套箱之外，正、副驾驶前面的中控台上各有一个开启式的储物盒。另外大C4毕加索放弃了传统的换档操控位置，将四档自动电子变速箱的换档杆和换档拨片都集中到方向盘上，从而使前排中部的车内空间更宽裕，驾驶操作也更便捷，而且还得到了一个额外的空间奖励：一个位于中控台下方的5.4升大容积冷藏箱。\\n\\n',\n",
       " '海马广州隆润丘比特上市发布 当天订单达32台\\n网易汽车1月4日报道\\n2009年12月23日\\n，海马汽车宣布，旗下首款A0级家轿海马丘比特正式上市。\\n2010年1月1日\\n，虎年第一天，海马汽车广州隆润销售服务店在琶洲保利展馆的“2010广州新春汽车展”上隆重举行了“丘比特上市发布会”，在发布当天订单达32台。\\n定位于新一代\"高·品·值\"家轿的丘比特，此次共推出\\n1.3L\\n、\\n1.5L\\n两种排量四款车型，价格分别为\\n1.3L\\n手动实用型5.39万元，\\n1.3L\\n手动舒适型5.89万元，\\n1.3L\\n手动豪华型6.29万元，\\n1.5L\\n手动豪华型6.59万元，共有拉丁黄、光辉红、冰河蓝、时尚黑、动感蓝、星月银、极地白七种颜色可供选择。丘比特象征着爱，丘比特为爱而生。它将承载着所有用户对家庭、对朋友、对生活的爱。有爱相随，幸福生活从此升级，这是海马汽车对丘比特车主的良好祝愿。而海马丘比特轿车，将成为这种爱的载体。\\n业内专家评论，自广州车展公布中文名称以来，海马丘比特所倡导的\"高·品·值，爱相随\"的品牌理念得到广泛传播，而它在后排空间方面的革命性设计理念，倡导\"小车也有大空间\"的设计方向，为A0级家轿指明了一条全新的进化道路。此次丘比特以5.39万-6.59万元极具竞争力的价格强势上市，将为A0级家轿市场树立\"空间\"和\"性价比\"两个新标杆，中国A0级家轿市场的\"后排时代\"也将由此开启。\\n车身尺寸来看，丘比特拥有同级车领先的\\n2500毫米\\n超长轴距和最大的车身宽度，同时，设计师通过对车身结构和座椅的科学布局，为驾乘人员腾出了最大化的头部、肩部和膝部空间。后排腿部空间最大可达\\n900mm\\n，身高\\n1.8米\\n高的乘客，在后排仍然可以找到舒适的坐姿。这种高敞的空间感一般只在B级车上才能感受得到，体现了丘比特设计师在空间处理上的深厚功力。不仅如此，丘比特的载物空间之大也超出同侪。它采用4/6可折叠式后排座椅，座椅可整体翻转，实现多种空间组合变化。将后排座椅全部折叠翻转放置后，整个载物空间毫不逊色于一款小型MPV。而且，丘比特的后舱门采用掀背式的大角度开启设计，可以轻松装入大体积物品。\\n海马汽车拥有多年的国际品牌合作经验，丘比特在品质上不逊色于任何合资品牌，而在技术和配置方面，丘比特采取了许多A级车的配置和技术标准，包括3H结构高刚性车身、智能防盗系统等相对于合资品牌小车，都具有一定的优势。但丘比特的价格要比它们低一大截，这种差价优势使得丘比特成为A0级家轿市场的性价比新标杆。业内专家认为，中国的A0级家轿市场向来是合资品牌与自主品牌分立的二元结构，双方分别凭借品质和价格优势参与竞争，基本上是井水不犯河水，但海马丘比特的出现，一下子令这种二元竞争格局发生了根本性的变化。它以超值的价格上打合资阵营，以成熟可靠的品质下压自主阵营，上下通吃，必将加速A0级家轿市场重新洗牌。\\n想更详细了解海马丘比特家轿，请联系以下经销商：\\n海马汽车广州隆润销售服务店\\n地址：广州市荔湾区芳村龙溪大道大沙埠488号\\n销售热线：020-81608960 81608962\\n维修热线：020-81609356\\n24小时服务热线：18925035115\\n海马汽车广州隆润华南汽贸支店\\n地址：广州大道南华南汽贸A区第三街20-21号\\n销售热线：020-89805928\\n海马汽车广州隆润番禺支店\\n销售热线：18922293711\\n\\n',\n",
       " '安全可靠的车架\\nAI《汽车制造业》4月14日报道\\n\\n新型梅赛德斯-奔驰系列轿车的车架采用了许多高科技的材料和先进的加工工艺，如使用了特殊合金AlMg5Si2Mn及整体采用压铸铝合金构件等，使得奔驰轿车有着非常高的安全水平。\\n新型梅赛德斯-奔驰R级轿车的白车架60%以上的材料使用的是高强度和超高强度的钢材。碰撞后能够改变形状的部件，例如车架前部的纵梁和横梁采用的是抗拉强度达到500-600MPa的多相钢材制造的。通过形状复杂的上纵梁可以看出，尽管多相钢有着很高的强度，但是只要保证了它们的晶格结构，也有着很好的加工工艺性能。侧面的车顶框架和B立柱增强筋则是利用含有锰和硼元素的超高强度合金钢制造的。在变形加工前对这种超高强度钢进行加热，然后急剧冷却，使得钢材的抗拉强度可以达到1500MPa以上。\\n在戴姆勒-克莱斯勒公司中，白车架的组成构件是在美国冲压生产的。超高强度钢的主要供应商是蒂森钢铁集团公司，他们还负责解决戴姆勒-克莱斯勒公司在美国亚拉巴马州的Tuscaloosa制造厂超高强度钢材的制造工艺技术问题。\\n新型梅赛德斯-奔驰R级轿车\\n整体压铸铝合金构件\\n轿车车门内部的部件重达3.7kg，是由奥地利的Georg Fisher压力铸造有限责任股份公司采用铸造工艺技术生产的。这种车门内部构件共有6种变型形式。这一构件首次采用了铝合金铸造工艺进行生产，仅在构件的上方采用焊接工艺进行焊接。与多构件焊接式的车门内部构件相比，这种整体铸造方案减少了大量的焊接工序，减少了大量的焊接费用，同时，还减少了车门内部构件的变形，有着很小的公差值和很好的装配工艺性能。\\n在车架的制造中还使用了一种特殊合金AlMg5Si2Mn。从2001年起，Georg Fisher公司就和戴姆勒-克莱斯勒公司一起尝试着在车门内部构件中采用新的材料，利用新的方案进行生产。一年之后，戴姆勒-克莱斯勒公司才认可这种整体压铸铝合金构件的可靠性，从2003年起决定采用整体压铸铝合金构件，并于2005年夏季开始大批量使用这种压铸构件。现在，这家奥地利的铝合金压铸生产厂每天向德国辛德芬根市的戴姆勒-克莱斯勒汽车生产厂提供1500件整体压铸的铝合金构件。\\n压铸模一次生产一件，每次压铸的时间仅35μs，模具的合模力为42kN，每一个压铸件有135个控制参数。在完成压铸后，大型冲压机在这厚度2.2-3.5mm的压铸铝合金构件上冲压出所需的孔和槽。\\n新型梅赛德斯-奔驰R级轿车的白车架60%以上的材料使用的是高强度和超高强度的钢材\\n主动式防夹（伤）保护\\n新型奔驰M级和R级轿车的行李舱盖带有液压驱动的、自动关闭的控制机构。德国乌尔姆市的Mayser有限责任股份公司为这种行李舱盖提供了所需的主动式防夹（伤）保护装置。当人们在手动关闭行李舱盖和车门的时候，自动关闭系统也辅助发挥着安全保障作用。当打开R级和M级轿车的行李舱盖时，在其他物体意外接近行李舱盖关闭位置处时，安全报警系统会发出报警。\\n报警音响信号由安装在行李舱边缘处的报警系统发出。只要在行李舱盖关闭位置处施加很小的外力，该系统就会发出报警信号，而控制这一防夹保护的电气导线荫蔽的安装在左右D立柱中。\\n在R级轿车中的最后一排车窗中还隐藏着另外一套防夹（伤）保护报警导线，用它来防止坐在第三排的乘客在关闭车门、车窗时夹伤手指。\\n通过S级和R级轿车的顶窗可以透过大量的阳光。在R级轿车中，顶窗玻璃的面积达1070mm*950mm。据Webasto公司称：这是目前世界上最大的顶窗玻璃了。整个顶窗由三大部分构成：前、后两部分是固定的，中间是可以向后开启的玻璃窗。粘贴的玻璃上的高强度薄膜可以有效地防止顶窗玻璃的断裂。在S级轿车中，也配置了类似的车窗，其尺寸规格为1710mm*1000mm。\\n\\n']"
      ]
     },
     "execution_count": 4,
     "metadata": {},
     "output_type": "execute_result"
    }
   ],
   "source": [
    "datas[:3]"
   ]
  },
  {
   "cell_type": "code",
   "execution_count": 16,
   "metadata": {},
   "outputs": [
    {
     "data": {
      "text/plain": [
       "{'Auto', 'Culture', 'Economy', 'Medicine', 'Military', 'Sports'}"
      ]
     },
     "execution_count": 16,
     "metadata": {},
     "output_type": "execute_result"
    }
   ],
   "source": [
    "set(classes)"
   ]
  },
  {
   "cell_type": "code",
   "execution_count": 6,
   "metadata": {
    "collapsed": true
   },
   "outputs": [],
   "source": [
    "import jieba\n",
    "import re\n",
    "stop_word = []\n",
    "with open('stopwords_cn.txt','r') as f:\n",
    "    for word in f.readlines():\n",
    "        stop_word.append(word.strip())\n",
    "stop_word.append('\\u3000')"
   ]
  },
  {
   "cell_type": "code",
   "execution_count": 7,
   "metadata": {
    "collapsed": true
   },
   "outputs": [],
   "source": [
    "def make_word_dict(training_data):\n",
    "    word_dict = {}\n",
    "    for data in training_data:\n",
    "        data_list = jieba.cut(re.sub('[a-zA-Z0-9]','',data.strip()))\n",
    "        for word in data_list:\n",
    "            if word not in stop_word and len(word)>1:\n",
    "                if word in word_dict.keys():\n",
    "                    word_dict[word] += 1\n",
    "                else:\n",
    "                    word_dict[word] = 1\n",
    "    word_freq = sorted(word_dict.items(), key=lambda f:f[1], reverse=True)\n",
    "    return word_dict,word_freq"
   ]
  },
  {
   "cell_type": "code",
   "execution_count": 8,
   "metadata": {},
   "outputs": [
    {
     "name": "stderr",
     "output_type": "stream",
     "text": [
      "Building prefix dict from the default dictionary ...\n",
      "Loading model from cache /var/folders/s5/cxqfsb816f36h8gp706x5kjm0000gn/T/jieba.cache\n",
      "Loading model cost 0.961 seconds.\n",
      "Prefix dict has been built succesfully.\n"
     ]
    },
    {
     "data": {
      "text/plain": [
       "[('中国', 43812),\n",
       " ('一个', 29356),\n",
       " ('市场', 23137),\n",
       " ('汽车', 22275),\n",
       " ('没有', 20719),\n",
       " ('已经', 17960),\n",
       " ('发展', 17408),\n",
       " ('进行', 16574),\n",
       " ('目前', 15792),\n",
       " ('公司', 15480),\n",
       " ('问题', 15072),\n",
       " ('表示', 14901),\n",
       " ('记者', 14688),\n",
       " ('文化', 14311),\n",
       " ('可能', 13462),\n",
       " ('工作', 13163),\n",
       " ('国家', 13156),\n",
       " ('北京', 12984),\n",
       " ('网易', 12710),\n",
       " ('认为', 11984),\n",
       " ('.%', 11888),\n",
       " ('美国', 11732),\n",
       " ('比赛', 11615),\n",
       " ('经济', 11422),\n",
       " ('成为', 11016),\n",
       " ('企业', 10861),\n",
       " ('方面', 10685),\n",
       " ('车型', 10465),\n",
       " ('现在', 10403),\n",
       " ('医院', 10308)]"
      ]
     },
     "execution_count": 8,
     "metadata": {},
     "output_type": "execute_result"
    }
   ],
   "source": [
    "word_dict,word_freq = make_word_dict(datas)\n",
    "\n",
    "word_freq[:30]"
   ]
  },
  {
   "cell_type": "code",
   "execution_count": 9,
   "metadata": {
    "collapsed": true
   },
   "outputs": [],
   "source": [
    "#构造特征\n",
    "def make_feature(topN,word_freq):\n",
    "    feature_words = [x[0] for x in word_freq[:topN]]\n",
    "    return feature_words\n",
    "\n",
    "#构造文本的特征\n",
    "def make_text_feature(text,feature_words):\n",
    "    text_word_dict,_ = make_word_dict(text)\n",
    "    text_feature = np.zeros(len(feature_words))\n",
    "    \n",
    "    for i in range(len(feature_words)):\n",
    "        if feature_words[i] in text_word_dict.keys():\n",
    "            text_feature[i] = 1\n",
    "    return text_feature\n",
    "\n",
    "import random\n",
    "import numpy as np\n",
    "import pickle\n",
    "import os\n",
    "#构造训练集、验证集、测试集\n",
    "def make_data_set(datas,classes,topN,word_freq):\n",
    "    if os.path.exists('dataset%d.pkl'%topN):\n",
    "        data_set = pickle.load(open('dataset%d.pkl'%topN,'rb'))\n",
    "    else:\n",
    "        data_set = []\n",
    "        feature_words = make_feature(topN,word_freq)\n",
    "        for data in datas:\n",
    "            text_feature = make_text_feature(data,feature_words)\n",
    "            data_set.append(text_feature)\n",
    "        pickle.dump(data_set,open('dataset%d.pkl'%topN,'wb'))\n",
    "    \n",
    "    data_class_list = list(zip(data_set, classes))\n",
    "    random.shuffle(data_class_list)\n",
    "    test_index = int(len(data_class_list)*0.2)+1\n",
    "    val_index = int(len(data_class_list)*0.3)+1\n",
    "    \n",
    "    train_list = data_class_list[val_index:]\n",
    "    val_list = data_class_list[test_index:val_index]\n",
    "    test_list = data_class_list[:test_index]\n",
    "    \n",
    "    train_data_list, train_class_list = zip(*train_list)\n",
    "    val_data_list, val_class_list = zip(*val_list)\n",
    "    test_data_list, test_class_list = zip(*test_list)\n",
    "    return np.array(train_data_list), np.array(train_class_list),np.array(val_data_list), \\\n",
    "            np.array(val_class_list),np.array(test_data_list), np.array(test_class_list)"
   ]
  },
  {
   "cell_type": "code",
   "execution_count": 19,
   "metadata": {},
   "outputs": [],
   "source": [
    "train_x,train_y,val_x,val_y,test_x,text_y = make_data_set(datas,classes,10000,word_freq)\n"
   ]
  },
  {
   "cell_type": "code",
   "execution_count": 18,
   "metadata": {},
   "outputs": [
    {
     "data": {
      "text/plain": [
       "(2793, 2826, 2842, 2752, 2776, 2810)"
      ]
     },
     "execution_count": 18,
     "metadata": {},
     "output_type": "execute_result"
    }
   ],
   "source": [
    "train_y.tolist().count('Auto'),train_y.tolist().count('Culture'),train_y.tolist().count('Economy'),train_y.tolist().count('Medicine'),train_y.tolist().count('Military'),train_y.tolist().count('Sports')"
   ]
  },
  {
   "cell_type": "code",
   "execution_count": 20,
   "metadata": {},
   "outputs": [
    {
     "name": "stdout",
     "output_type": "stream",
     "text": [
      "0.172083333333\n"
     ]
    }
   ],
   "source": [
    "from sklearn.naive_bayes import MultinomialNB\n",
    "\n",
    "classifier = MultinomialNB().fit(train_x, train_y)\n",
    "val_accuracy = classifier.score(val_x, val_y)\n",
    "print(val_accuracy)"
   ]
  },
  {
   "cell_type": "code",
   "execution_count": null,
   "metadata": {},
   "outputs": [
    {
     "name": "stdout",
     "output_type": "stream",
     "text": [
      "24000 24000\n",
      "24000\n",
      "7201 4801\n",
      "feature numbers= 15000, accuracy is:  0.16375\n"
     ]
    }
   ],
   "source": [
    "from sklearn.naive_bayes import MultinomialNB\n",
    "for feature_num in range(15000,30001,3000):\n",
    "    train_x,train_y,val_x,val_y,test_x,text_y = make_data_set(datas,classes,feature_num,word_freq)\n",
    "    classifier = MultinomialNB().fit(train_x, train_y)\n",
    "    val_accuracy = classifier.score(val_x, val_y)\n",
    "    print('feature numbers= %d, accuracy is: ' % feature_num,val_accuracy)"
   ]
  },
  {
   "cell_type": "code",
   "execution_count": null,
   "metadata": {
    "collapsed": true
   },
   "outputs": [],
   "source": []
  }
 ],
 "metadata": {
  "kernelspec": {
   "display_name": "Python 3",
   "language": "python",
   "name": "python3"
  },
  "language_info": {
   "codemirror_mode": {
    "name": "ipython",
    "version": 3
   },
   "file_extension": ".py",
   "mimetype": "text/x-python",
   "name": "python",
   "nbconvert_exporter": "python",
   "pygments_lexer": "ipython3",
   "version": "3.6.2"
  }
 },
 "nbformat": 4,
 "nbformat_minor": 2
}
